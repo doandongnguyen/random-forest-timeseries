{
 "metadata": {
  "name": "",
  "signature": "sha256:14f065783b8d0910623c703b4d580e0c44781d8a9496ad7ac3f5330d7f1b9ef8"
 },
 "nbformat": 3,
 "nbformat_minor": 0,
 "worksheets": [
  {
   "cells": [
    {
     "cell_type": "markdown",
     "metadata": {},
     "source": [
      "#Looking in to random forest for light curve modeling\n",
      "\n",
      "Do the stupidest thing possible first:\n",
      "- read in Kepler 17 light curve \n",
      "- down-sample light curve to 2-hour samples (simple interpolation)\n",
      "- bin the light curve up in to 20 day bins, slide each subsequent bin by 5 days\n",
      "- each bin is one *instance*\n",
      "- within each bin, the features are delta time and delta flux from the last data point"
     ]
    },
    {
     "cell_type": "code",
     "collapsed": false,
     "input": [
      "import pandas as pd\n",
      "pd.set_option('display.max_columns', None)\n",
      "%pylab inline\n",
      "import numpy as np\n",
      "%matplotlib inline\n",
      "import matplotlib.pyplot as plt\n",
      "from sklearn.svm import SVR\n"
     ],
     "language": "python",
     "metadata": {},
     "outputs": [
      {
       "output_type": "stream",
       "stream": "stdout",
       "text": [
        "Populating the interactive namespace from numpy and matplotlib\n"
       ]
      }
     ],
     "prompt_number": 16
    },
    {
     "cell_type": "code",
     "collapsed": false,
     "input": [
      "#rawdata = pd.read_table('kepler17_whole.dat', delim_whitespace=True, \n",
      "#                        header=0, names=('time','flux','error'))\n",
      "#rawdata.tail(5)\n",
      "\n",
      "time_raw,flux_raw,err_raw = np.loadtxt('kepler17_whole.dat',unpack=True)\n",
      "time_raw\n",
      "\n",
      "time0,flux,err = np.loadtxt('kepler17_downsample.dat',unpack=True)\n",
      "\n",
      "# Let's just use time before day=600 to avoid big data gap\n",
      "flux = flux[(time0 < 600)]\n",
      "time = time0[(time0 < 600)]\n",
      "\n",
      "print np.shape(time), np.shape(flux)"
     ],
     "language": "python",
     "metadata": {},
     "outputs": [
      {
       "output_type": "stream",
       "stream": "stdout",
       "text": [
        "(469,) (469,)\n"
       ]
      }
     ],
     "prompt_number": 38
    },
    {
     "cell_type": "code",
     "collapsed": false,
     "input": [
      "\n",
      "plt.plot(time,flux,'r-')\n",
      "plt.ylim((2.65e4,2.8e4))\n",
      "plt.xlim((200,290))"
     ],
     "language": "python",
     "metadata": {},
     "outputs": [
      {
       "metadata": {},
       "output_type": "pyout",
       "prompt_number": 113,
       "text": [
        "(200, 290)"
       ]
      },
      {
       "metadata": {},
       "output_type": "display_data",
       "png": "[encoded data removed]",
       "text": [
        "<matplotlib.figure.Figure at 0x10cb163d0>"
       ]
      }
     ],
     "prompt_number": 113
    },
    {
     "cell_type": "markdown",
     "metadata": {},
     "source": [
      "---\n",
      "## Do a loop over dataframe to make instances\n",
      "\n",
      "create 20-day bins, separated by 1-day, compute features (delta time, delta flux)"
     ]
    },
    {
     "cell_type": "code",
     "collapsed": false,
     "input": [
      "# FEATURES dimensions: 2(time,flux) x N(pts in window) x N_windows\n",
      "# LABELS dimensions: N_windows\n",
      "\n",
      "Npts = 20 # data points within each window\n",
      "Nwnd = len(time)-Npts*2.-1 # move each window by 1 data point, keep last chunk for prediction\n",
      "\n",
      "# Features should have dimensions (N_instances x N_features)\n",
      "# Labels should have dimensions (N_instances)\n",
      "feat = np.zeros( [Nwnd, 2*Npts] ) - 9999999. # blank array to fill\n",
      "labl = np.zeros( [Nwnd] ) - 99999.\n",
      "sh = np.shape(feat)\n",
      "\n",
      "print('shape of feature array:',sh)\n",
      "\n",
      "\n",
      "# Now fill the feature and label arrays\n",
      "for i in range(int(Nwnd)):\n",
      "    feat[i,:] = np.concatenate((time[i:i+Npts] - time[i+Npts], \n",
      "                                flux[i:i+Npts] - flux[i+Npts]))\n",
      "    labl[i] = flux[i+Npts+1] - flux[i+Npts]\n",
      "\n",
      "# Now make test features and test labels to compare with\n",
      "test_feat = np.zeros( [Npts, 2*Npts] )\n",
      "test_labl = np.zeros( [Npts] )\n",
      "\n",
      "for i in range(Npts):\n",
      "    test_feat[i,:] = np.concatenate((time[i+Nwnd:i+Nwnd+Npts] - time[i+Nwnd+Npts],\n",
      "                                     flux[i+Nwnd:i+Nwnd+Npts] - flux[i+Nwnd+Npts]))\n",
      "    test_labl[i] = flux[i+Nwnd+Npts+1] - flux[i+Nwnd+Npts]"
     ],
     "language": "python",
     "metadata": {},
     "outputs": [
      {
       "output_type": "stream",
       "stream": "stdout",
       "text": [
        "('shape of feature array:', (428, 40))\n"
       ]
      }
     ],
     "prompt_number": 90
    },
    {
     "cell_type": "code",
     "collapsed": false,
     "input": [
      "# Code taken from Josh Bloom's lecture\n",
      "\n",
      "from sklearn.ensemble import RandomForestRegressor\n",
      "clf2 = RandomForestRegressor(n_estimators=1000, \n",
      "                            criterion='mse', max_depth=None, \n",
      "                            min_samples_split=2, min_samples_leaf=1, \n",
      "                            max_features='auto', max_leaf_nodes=None, \n",
      "                            bootstrap=True, oob_score=False, n_jobs=1, \n",
      "                            random_state=None, verbose=0, \n",
      "                            min_density=None, compute_importances=None)\n",
      "clf2.fit(feat, labl)\n"
     ],
     "language": "python",
     "metadata": {},
     "outputs": [
      {
       "metadata": {},
       "output_type": "pyout",
       "prompt_number": 91,
       "text": [
        "RandomForestRegressor(bootstrap=True, compute_importances=None,\n",
        "           criterion='mse', max_depth=None, max_features='auto',\n",
        "           max_leaf_nodes=None, min_density=None, min_samples_leaf=1,\n",
        "           min_samples_split=2, n_estimators=1000, n_jobs=1,\n",
        "           oob_score=False, random_state=None, verbose=0)"
       ]
      }
     ],
     "prompt_number": 91
    },
    {
     "cell_type": "code",
     "collapsed": false,
     "input": [
      "pred = clf2.predict(test_feat)\n",
      "print len(pred)\n",
      "\n",
      "# try plotting the actual delta fluxes vs the predicted\n",
      "plt.plot(test_labl)\n",
      "plt.plot(pred,'ro')"
     ],
     "language": "python",
     "metadata": {},
     "outputs": [
      {
       "output_type": "stream",
       "stream": "stdout",
       "text": [
        "20\n"
       ]
      },
      {
       "metadata": {},
       "output_type": "pyout",
       "prompt_number": 98,
       "text": [
        "[<matplotlib.lines.Line2D at 0x10820f0d0>]"
       ]
      },
      {
       "metadata": {},
       "output_type": "display_data",
       "png": "[encoded data removed]",
       "text": [
        "<matplotlib.figure.Figure at 0x10c2cf9d0>"
       ]
      }
     ],
     "prompt_number": 98
    },
    {
     "cell_type": "code",
     "collapsed": false,
     "input": [
      "# now let's draw the predictions for the entire training dataset... stupid to do?\n",
      "\n",
      "pred_big = clf2.predict(feat)\n",
      "plt.plot(labl)\n",
      "plt.plot(pred_big, 'r+')\n",
      "plt.xlim((50,70))"
     ],
     "language": "python",
     "metadata": {},
     "outputs": [
      {
       "metadata": {},
       "output_type": "pyout",
       "prompt_number": 102,
       "text": [
        "(50, 70)"
       ]
      },
      {
       "metadata": {},
       "output_type": "display_data",
       "png": "[encoded data removed]",
       "text": [
        "<matplotlib.figure.Figure at 0x10938ea10>"
       ]
      }
     ],
     "prompt_number": 102
    },
    {
     "cell_type": "code",
     "collapsed": false,
     "input": [
      "zip(clf2.feature_importances_)"
     ],
     "language": "python",
     "metadata": {},
     "outputs": [
      {
       "metadata": {},
       "output_type": "pyout",
       "prompt_number": 106,
       "text": [
        "[(1.3708377378222559e-05,),\n",
        " (1.7142955837414246e-05,),\n",
        " (1.089059289068892e-05,),\n",
        " (1.4980505804141384e-05,),\n",
        " (5.2833761839584243e-05,),\n",
        " (2.3731997718365675e-06,),\n",
        " (1.2112974802474975e-05,),\n",
        " (3.4895440535710034e-06,),\n",
        " (2.8576464796178141e-06,),\n",
        " (1.141191100418664e-05,),\n",
        " (1.9750174519576398e-06,),\n",
        " (1.5381094561184744e-06,),\n",
        " (3.2601977932462808e-06,),\n",
        " (1.9742197617350646e-06,),\n",
        " (2.4012213468520022e-06,),\n",
        " (2.0206323880217708e-06,),\n",
        " (2.3614087119219834e-06,),\n",
        " (1.1357183162009746e-06,),\n",
        " (1.917544252157468e-07,),\n",
        " (3.3516514957580154e-07,),\n",
        " (0.021704976567797567,),\n",
        " (0.041936973519226449,),\n",
        " (0.044403773020577256,),\n",
        " (0.05789537514531843,),\n",
        " (0.02180578741489558,),\n",
        " (0.02338227475453741,),\n",
        " (0.023181667127045901,),\n",
        " (0.073876961307171682,),\n",
        " (0.067605778399405209,),\n",
        " (0.15247815328923653,),\n",
        " (0.062968742322184676,),\n",
        " (0.022053460046080765,),\n",
        " (0.018657509233019787,),\n",
        " (0.035578003345064502,),\n",
        " (0.050551736628042757,),\n",
        " (0.076956767934495893,),\n",
        " (0.0277508494025018,),\n",
        " (0.035599082683594879,),\n",
        " (0.035492606307394627,),\n",
        " (0.10596052663774595,)]"
       ]
      }
     ],
     "prompt_number": 106
    },
    {
     "cell_type": "code",
     "collapsed": false,
     "input": [
      "plt.plot(clf2.feature_importances_)\n",
      "plt.xlabel('Feature #');  plt.ylabel('Importance')"
     ],
     "language": "python",
     "metadata": {},
     "outputs": [
      {
       "metadata": {},
       "output_type": "pyout",
       "prompt_number": 110,
       "text": [
        "<matplotlib.text.Text at 0x10a5b5b10>"
       ]
      },
      {
       "metadata": {},
       "output_type": "display_data",
       "png": "[encoded data removed]",
       "text": [
        "<matplotlib.figure.Figure at 0x10a5da090>"
       ]
      }
     ],
     "prompt_number": 110
    },
    {
     "cell_type": "code",
     "collapsed": false,
     "input": [],
     "language": "python",
     "metadata": {},
     "outputs": []
    },
    {
     "cell_type": "code",
     "collapsed": false,
     "input": [],
     "language": "python",
     "metadata": {},
     "outputs": []
    },
    {
     "cell_type": "markdown",
     "metadata": {},
     "source": [
      "## Test Support Vector Regression"
     ]
    },
    {
     "cell_type": "code",
     "collapsed": false,
     "input": [
      "XX = np.transpose(np.array([time]))\n",
      "YY = flux\n",
      "print np.shape(XX)"
     ],
     "language": "python",
     "metadata": {},
     "outputs": [
      {
       "output_type": "stream",
       "stream": "stdout",
       "text": [
        "(1459, 1)\n"
       ]
      }
     ],
     "prompt_number": 14
    },
    {
     "cell_type": "code",
     "collapsed": false,
     "input": [
      "svr_rbf = SVR(kernel='rbf', C=1e3, gamma=0.1)\n",
      "y_rbf = svr_rbf.fit(XX, YY).predict(XX)\n"
     ],
     "language": "python",
     "metadata": {},
     "outputs": [],
     "prompt_number": 26
    },
    {
     "cell_type": "code",
     "collapsed": false,
     "input": [
      "plt.plot(XX, y_rbf, 'g+')\n",
      "plt.xlim((200,300))\n",
      "#plt.ylim((-500,500))"
     ],
     "language": "python",
     "metadata": {},
     "outputs": [
      {
       "metadata": {},
       "output_type": "pyout",
       "prompt_number": 34,
       "text": [
        "(200, 300)"
       ]
      },
      {
       "metadata": {},
       "output_type": "display_data",
       "png": "[encoded data removed]",
       "text": [
        "<matplotlib.figure.Figure at 0x10c185b10>"
       ]
      }
     ],
     "prompt_number": 34
    },
    {
     "cell_type": "code",
     "collapsed": false,
     "input": [],
     "language": "python",
     "metadata": {},
     "outputs": []
    }
   ],
   "metadata": {}
  }
 ]
}