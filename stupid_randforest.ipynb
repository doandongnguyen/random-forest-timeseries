{
 "metadata": {
  "name": "",
  "signature": "sha256:5399d03927074fd4086ecb4abd562aa3a25407e2a29fc08f0288d53b7ff0b6f0"
 },
 "nbformat": 3,
 "nbformat_minor": 0,
 "worksheets": [
  {
   "cells": [
    {
     "cell_type": "markdown",
     "metadata": {},
     "source": [
      "#Looking in to random forest for light curve modeling\n",
      "\n",
      "Do the stupidest thing possible first:\n",
      "- read in Kepler 17 light curve \n",
      "- down-sample light curve to 2-hour samples (simple interpolation)\n",
      "- bin the light curve up in to 20 day bins, slide each subsequent bin by 5 days\n",
      "- each bin is one *instance*\n",
      "- within each bin, the features are delta time and delta flux from the last data point"
     ]
    },
    {
     "cell_type": "code",
     "collapsed": false,
     "input": [
      "import pandas as pd\n",
      "pd.set_option('display.max_columns', None)\n",
      "%pylab inline\n",
      "import numpy as np\n",
      "%matplotlib inline\n",
      "import matplotlib.pyplot as plt\n",
      "from sklearn.svm import SVR\n"
     ],
     "language": "python",
     "metadata": {},
     "outputs": [
      {
       "output_type": "stream",
       "stream": "stdout",
       "text": [
        "Populating the interactive namespace from numpy and matplotlib\n"
       ]
      }
     ],
     "prompt_number": 1
    },
    {
     "cell_type": "code",
     "collapsed": false,
     "input": [
      "#rawdata = pd.read_table('kepler17_whole.dat', delim_whitespace=True, \n",
      "#                        header=0, names=('time','flux','error'))\n",
      "#rawdata.tail(5)\n",
      "\n",
      "\n",
      "#time_raw,flux_raw,err_raw = np.loadtxt('kepler17_whole.dat',unpack=True)\n",
      "#time_raw\n",
      "\n",
      "time0,flux,err = np.loadtxt('kepler17_downsample2.dat',unpack=True)\n",
      "\n",
      "# Let's just use time before day=600 to avoid big data gap\n",
      "flux = flux[(time0 < 600)]\n",
      "time = time0[(time0 < 600)]\n",
      "\n",
      "print np.shape(time), np.shape(flux)"
     ],
     "language": "python",
     "metadata": {},
     "outputs": [
      {
       "output_type": "stream",
       "stream": "stdout",
       "text": [
        "(2343,) (2343,)\n"
       ]
      }
     ],
     "prompt_number": 3
    },
    {
     "cell_type": "code",
     "collapsed": false,
     "input": [
      "\n",
      "plt.plot(time,flux,'r-')\n",
      "plt.ylim((2.65e4,2.8e4))\n",
      "plt.xlim((200,290))"
     ],
     "language": "python",
     "metadata": {},
     "outputs": [
      {
       "metadata": {},
       "output_type": "pyout",
       "prompt_number": 4,
       "text": [
        "(200, 290)"
       ]
      },
      {
       "metadata": {},
       "output_type": "display_data",
       "png": "[encoded data removed]",
       "text": [
        "<matplotlib.figure.Figure at 0x1099c3610>"
       ]
      }
     ],
     "prompt_number": 4
    },
    {
     "cell_type": "markdown",
     "metadata": {},
     "source": [
      "---\n",
      "## Do a loop over dataframe to make instances\n",
      "\n",
      "create 20-day bins, separated by 1-day, compute features (delta time, delta flux)"
     ]
    },
    {
     "cell_type": "code",
     "collapsed": false,
     "input": [
      "# FEATURES dimensions: 2(time,flux) x N(pts in window) x N_windows\n",
      "# LABELS dimensions: N_windows\n",
      "\n",
      "Npts = 100 # data points within each window\n",
      "Nwnd = len(time)-2*Npts-1 # move each window by 1 data point, keep last chunk for prediction\n",
      "\n",
      "# Features should have dimensions (N_instances x N_features)\n",
      "# Labels should have dimensions (N_instances)\n",
      "feat = np.zeros( [Nwnd, Npts] ) - 9999999. # blank array to fill\n",
      "labl = np.zeros( [Nwnd] ) - 99999.\n",
      "sh = np.shape(feat)\n",
      "\n",
      "print('shape of feature array:',sh)\n",
      "print(Nwnd)\n",
      "\n",
      "\n",
      "# Now fill the feature and label arrays\n",
      "for i in range(int(Nwnd)):\n",
      "    #feat[i,:] = np.concatenate((time[i:i+Npts] - time[i+Npts], \n",
      "    #                            flux[i:i+Npts] - flux[i+Npts]))\n",
      "    feat[i,:] = flux[i:i+Npts] - flux[i+Npts]\n",
      "    labl[i] = flux[i+Npts+1] - flux[i+Npts]\n"
     ],
     "language": "python",
     "metadata": {},
     "outputs": [
      {
       "output_type": "stream",
       "stream": "stdout",
       "text": [
        "('shape of feature array:', (2142, 100))\n",
        "2142\n"
       ]
      }
     ],
     "prompt_number": 18
    },
    {
     "cell_type": "code",
     "collapsed": false,
     "input": [
      "\n",
      "# Now make test features and test labels to compare with\n",
      "test_feat = np.zeros( [Npts, Npts] )\n",
      "test_labl = np.zeros( [Npts] )\n",
      "\n",
      "print(np.size(test_feat),np.size(test_labl))\n",
      "\n",
      "for i in range(Npts):\n",
      "    #test_feat[i,:] = np.concatenate((time[i+Nwnd:i+Nwnd+Npts] - time[i+Nwnd+Npts],\n",
      "    #                                 flux[i+Nwnd:i+Nwnd+Npts] - flux[i+Nwnd+Npts]))\n",
      "    test_feat[i,:] = flux[i+Nwnd:i+Nwnd+Npts] - flux[i+Nwnd+Npts]\n",
      "    test_labl[i] = flux[i+Nwnd+Npts+1] - flux[i+Nwnd+Npts]\n",
      "    "
     ],
     "language": "python",
     "metadata": {},
     "outputs": [
      {
       "output_type": "stream",
       "stream": "stdout",
       "text": [
        "(10000, 100)\n"
       ]
      }
     ],
     "prompt_number": 26
    },
    {
     "cell_type": "code",
     "collapsed": false,
     "input": [
      "# Code taken from Josh Bloom's lecture\n",
      "\n",
      "from sklearn.ensemble import RandomForestRegressor\n",
      "clf2 = RandomForestRegressor(n_estimators=1000, \n",
      "                            criterion='mse', max_depth=None, \n",
      "                            min_samples_split=2, min_samples_leaf=1, \n",
      "                            max_features='auto', max_leaf_nodes=None, \n",
      "                            bootstrap=True, oob_score=False, n_jobs=1, \n",
      "                            random_state=None, verbose=0, \n",
      "                            min_density=None, compute_importances=None)\n",
      "clf2.fit(feat, labl)\n"
     ],
     "language": "python",
     "metadata": {},
     "outputs": [
      {
       "metadata": {},
       "output_type": "pyout",
       "prompt_number": 27,
       "text": [
        "RandomForestRegressor(bootstrap=True, compute_importances=None,\n",
        "           criterion='mse', max_depth=None, max_features='auto',\n",
        "           max_leaf_nodes=None, min_density=None, min_samples_leaf=1,\n",
        "           min_samples_split=2, n_estimators=1000, n_jobs=1,\n",
        "           oob_score=False, random_state=None, verbose=0)"
       ]
      }
     ],
     "prompt_number": 27
    },
    {
     "cell_type": "code",
     "collapsed": false,
     "input": [
      "pred = clf2.predict(test_feat)\n",
      "print len(pred)\n",
      "\n",
      "# try plotting the actual delta fluxes vs the predicted\n",
      "plt.plot(test_labl)\n",
      "plt.plot(pred,'ro')"
     ],
     "language": "python",
     "metadata": {},
     "outputs": [
      {
       "output_type": "stream",
       "stream": "stdout",
       "text": [
        "100\n"
       ]
      },
      {
       "metadata": {},
       "output_type": "pyout",
       "prompt_number": 28,
       "text": [
        "[<matplotlib.lines.Line2D at 0x109bc3790>]"
       ]
      },
      {
       "metadata": {},
       "output_type": "display_data",
       "png": "[encoded data removed]",
       "text": [
        "<matplotlib.figure.Figure at 0x109b865d0>"
       ]
      }
     ],
     "prompt_number": 28
    },
    {
     "cell_type": "code",
     "collapsed": false,
     "input": [
      "# now let's draw the predictions for the entire training dataset... stupid to do?\n",
      "\n",
      "pred_big = clf2.predict(feat)\n",
      "plt.plot(labl)\n",
      "plt.plot(pred_big, 'r+')\n",
      "plt.xlim((50,70))"
     ],
     "language": "python",
     "metadata": {},
     "outputs": [
      {
       "metadata": {},
       "output_type": "pyout",
       "prompt_number": 29,
       "text": [
        "(50, 70)"
       ]
      },
      {
       "metadata": {},
       "output_type": "display_data",
       "png": "[encoded data removed]",
       "text": [
        "<matplotlib.figure.Figure at 0x119e5e650>"
       ]
      }
     ],
     "prompt_number": 29
    },
    {
     "cell_type": "code",
     "collapsed": false,
     "input": [
      "zip(clf2.feature_importances_)"
     ],
     "language": "python",
     "metadata": {},
     "outputs": []
    },
    {
     "cell_type": "code",
     "collapsed": false,
     "input": [
      "plt.semilogy(time[Npts]-time[0:Npts], clf2.feature_importances_,'bo-')\n",
      "plt.xlabel('Time (days)');  plt.ylabel('Importance')"
     ],
     "language": "python",
     "metadata": {},
     "outputs": [
      {
       "metadata": {},
       "output_type": "pyout",
       "prompt_number": 42,
       "text": [
        "<matplotlib.text.Text at 0x11af4e7d0>"
       ]
      },
      {
       "metadata": {},
       "output_type": "display_data",
       "png": "[encoded data removed]",
       "text": [
        "<matplotlib.figure.Figure at 0x11aa98050>"
       ]
      }
     ],
     "prompt_number": 42
    },
    {
     "cell_type": "code",
     "collapsed": false,
     "input": [],
     "language": "python",
     "metadata": {},
     "outputs": [],
     "prompt_number": 37
    },
    {
     "cell_type": "code",
     "collapsed": false,
     "input": [],
     "language": "python",
     "metadata": {},
     "outputs": []
    },
    {
     "cell_type": "markdown",
     "metadata": {},
     "source": [
      "## Test Support Vector Regression"
     ]
    },
    {
     "cell_type": "code",
     "collapsed": false,
     "input": [
      "XX = np.transpose(np.array([time]))\n",
      "YY = flux\n",
      "print np.shape(XX)"
     ],
     "language": "python",
     "metadata": {},
     "outputs": []
    },
    {
     "cell_type": "code",
     "collapsed": false,
     "input": [
      "svr_rbf = SVR(kernel='rbf', C=1e3, gamma=0.1)\n",
      "y_rbf = svr_rbf.fit(XX, YY).predict(XX)\n"
     ],
     "language": "python",
     "metadata": {},
     "outputs": []
    },
    {
     "cell_type": "code",
     "collapsed": false,
     "input": [
      "plt.plot(XX, y_rbf, 'g+')\n",
      "plt.xlim((200,300))\n",
      "#plt.ylim((-500,500))"
     ],
     "language": "python",
     "metadata": {},
     "outputs": []
    },
    {
     "cell_type": "code",
     "collapsed": false,
     "input": [],
     "language": "python",
     "metadata": {},
     "outputs": []
    }
   ],
   "metadata": {}
  }
 ]
}